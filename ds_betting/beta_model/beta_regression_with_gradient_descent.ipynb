{
 "cells": [
  {
   "cell_type": "code",
   "execution_count": 1,
   "id": "d691c863",
   "metadata": {},
   "outputs": [],
   "source": [
    "import numpy as np"
   ]
  },
  {
   "cell_type": "code",
   "execution_count": 2,
   "id": "4c6712d5",
   "metadata": {},
   "outputs": [],
   "source": [
    "betas = np.array([[1.0,1.0,1.0,1.0],[1.0,1.0,1.0,1.0]])\n",
    "\n",
    "\n",
    "x_5_rows = np.array([[1.0,1.0,1.0,1.0],\n",
    "            [1.0,2.0,3.0,4.0],\n",
    "             [1.0,1.0,1.0,1.0],\n",
    "             [1.0,2.0,3.0,4.0],\n",
    "             [1.0,1.0,1.0,1.0]])\n",
    "\n",
    "alpha_5_rows = np.array([[2.0,3.0],\n",
    "                  [5.0,5.0],\n",
    "                  [2.0,3.0],\n",
    "                  [5.0,5.0],\n",
    "                  [2.0,3.0]])"
   ]
  },
  {
   "cell_type": "code",
   "execution_count": 3,
   "id": "3e79e35f",
   "metadata": {},
   "outputs": [
    {
     "name": "stdout",
     "output_type": "stream",
     "text": [
      "0\n",
      "1\n",
      "2\n",
      "3\n",
      "4\n",
      "5\n",
      "6\n",
      "7\n",
      "8\n",
      "9\n"
     ]
    }
   ],
   "source": [
    "for val in range(10):\n",
    "    print(val)"
   ]
  },
  {
   "cell_type": "code",
   "execution_count": 4,
   "id": "7e06b8c7",
   "metadata": {},
   "outputs": [],
   "source": [
    "def compute_gradient_matrix_cookbook_5_rows(x_row,alpha_row,beta):\n",
    "    return 2*(np.dot(beta,np.outer(x_row,x_row.T)).T - (np.outer(x_row,alpha_row)))"
   ]
  },
  {
   "cell_type": "code",
   "execution_count": 5,
   "id": "5854d72e",
   "metadata": {},
   "outputs": [],
   "source": [
    "step_size = .001"
   ]
  },
  {
   "cell_type": "code",
   "execution_count": null,
   "id": "e95e69ea",
   "metadata": {},
   "outputs": [],
   "source": []
  },
  {
   "cell_type": "code",
   "execution_count": 8,
   "id": "5227bfb7",
   "metadata": {},
   "outputs": [
    {
     "name": "stdout",
     "output_type": "stream",
     "text": [
      "epoch : 0  loss: [[-16.]\n",
      " [-13.]]\n",
      "epoch : 10  loss: [[-3.87257843]\n",
      " [-1.96269057]]\n",
      "epoch : 20  loss: [[-1.19502052]\n",
      " [ 0.43321649]]\n",
      "epoch : 30  loss: [[-0.59493533]\n",
      " [ 0.9307635 ]]\n",
      "epoch : 40  loss: [[-0.45186525]\n",
      " [ 1.01203033]]\n",
      "epoch : 50  loss: [[-0.40962226]\n",
      " [ 1.0027438 ]]\n",
      "epoch : 60  loss: [[-0.38990398]\n",
      " [ 0.97446655]]\n",
      "epoch : 70  loss: [[-0.3754874]\n",
      " [ 0.9428973]]\n",
      "epoch : 80  loss: [[-0.36257513]\n",
      " [ 0.91145695]]\n",
      "epoch : 90  loss: [[-0.35032112]\n",
      " [ 0.88086874]]\n"
     ]
    }
   ],
   "source": [
    "for val in range(100):\n",
    "    gradient_matrix_global = np.zeros(betas.shape)\n",
    "    loss_overall = np.zeros((2,1))\n",
    "\n",
    "    for row_idx in range(len(x_5_rows)):\n",
    "        alpha_actual = np.expand_dims(alpha_5_rows[row_idx],-1)\n",
    "        x_row = np.expand_dims(x_5_rows[row_idx],-1)\n",
    "        alpha_hat = betas.dot(x_row)\n",
    "        difference = alpha_actual-alpha_hat\n",
    "        loss_overall+=difference\n",
    "\n",
    "        gradient_matrix_local = compute_gradient_matrix_cookbook_5_rows(x_row,alpha_actual,betas).T\n",
    "        gradient_matrix_global+= gradient_matrix_local\n",
    "    betas += -step_size*gradient_matrix_global\n",
    "    if val%10==0:\n",
    "        print('epoch :',val,' loss:',loss_overall)"
   ]
  },
  {
   "cell_type": "code",
   "execution_count": 9,
   "id": "07f4f08d",
   "metadata": {},
   "outputs": [
    {
     "data": {
      "text/plain": [
       "array([[2.17177792],\n",
       "       [2.56804148]])"
      ]
     },
     "execution_count": 9,
     "metadata": {},
     "output_type": "execute_result"
    }
   ],
   "source": [
    "betas.dot(x_row)"
   ]
  },
  {
   "cell_type": "code",
   "execution_count": 55,
   "id": "7aa7de92",
   "metadata": {},
   "outputs": [
    {
     "data": {
      "text/plain": [
       "4"
      ]
     },
     "execution_count": 55,
     "metadata": {},
     "output_type": "execute_result"
    }
   ],
   "source": [
    "row_idx"
   ]
  },
  {
   "cell_type": "code",
   "execution_count": 78,
   "id": "574e99a2",
   "metadata": {},
   "outputs": [
    {
     "name": "stdout",
     "output_type": "stream",
     "text": [
      "[[2.17177792]\n",
      " [2.56804148]]\n",
      "[[4.91159732]\n",
      " [5.2223058 ]]\n",
      "[[2.17177792]\n",
      " [2.56804148]]\n",
      "[[4.91159732]\n",
      " [5.2223058 ]]\n",
      "[[2.17177792]\n",
      " [2.56804148]]\n"
     ]
    }
   ],
   "source": [
    "for row_idx in range(len(x_5_rows)):\n",
    "    x_row = np.expand_dims(x_5_rows[row_idx],-1)\n",
    "    alpha_hat = betas.dot(x_row)\n",
    "    print(alpha_hat)"
   ]
  },
  {
   "cell_type": "code",
   "execution_count": null,
   "id": "27d8bc1d",
   "metadata": {},
   "outputs": [],
   "source": []
  }
 ],
 "metadata": {
  "kernelspec": {
   "display_name": "Python 3 (ipykernel)",
   "language": "python",
   "name": "python3"
  },
  "language_info": {
   "codemirror_mode": {
    "name": "ipython",
    "version": 3
   },
   "file_extension": ".py",
   "mimetype": "text/x-python",
   "name": "python",
   "nbconvert_exporter": "python",
   "pygments_lexer": "ipython3",
   "version": "3.9.7"
  }
 },
 "nbformat": 4,
 "nbformat_minor": 5
}
