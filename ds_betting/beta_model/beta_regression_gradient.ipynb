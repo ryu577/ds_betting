{
 "cells": [
  {
   "cell_type": "code",
   "execution_count": 122,
   "id": "152f7ce8",
   "metadata": {},
   "outputs": [],
   "source": [
    "import numpy as np"
   ]
  },
  {
   "cell_type": "code",
   "execution_count": 123,
   "id": "9aa4a4e0",
   "metadata": {},
   "outputs": [],
   "source": [
    "beta = np.array([[1.0,1.0,1.0,1.0],[1.0,1.0,1.0,1.0]])\n",
    "x = np.array([1.0,1.0,1.0,1.0])\n",
    "alpha = np.array([1.0,1.0])"
   ]
  },
  {
   "cell_type": "code",
   "execution_count": 124,
   "id": "4a49be7e",
   "metadata": {},
   "outputs": [],
   "source": [
    "def compute_gradient_matrix_cookbook(x,alpha,beta):\n",
    "    return 2*(np.dot(beta,np.outer(x,x.T)).T - (np.outer(x,alpha)))"
   ]
  },
  {
   "cell_type": "code",
   "execution_count": 125,
   "id": "457dcf21",
   "metadata": {},
   "outputs": [],
   "source": [
    "def compute_difference(beta,x):\n",
    "    alpha_hat = (beta).dot(x)\n",
    "    difference = alpha_hat-alpha\n",
    "    \n",
    "    return difference"
   ]
  },
  {
   "cell_type": "code",
   "execution_count": 126,
   "id": "e56152e3",
   "metadata": {},
   "outputs": [],
   "source": [
    "def sse(difference):\n",
    "    return (difference.T).dot(difference) "
   ]
  },
  {
   "cell_type": "code",
   "execution_count": 127,
   "id": "3b3c3b1b",
   "metadata": {},
   "outputs": [],
   "source": [
    "def compute_gradient_manual(beta,x,index_values,delta=0.00001):\n",
    "    row,col = index_values\n",
    "    difference1 = compute_difference(beta,x)\n",
    "    \n",
    "    beta_copy = beta.copy()\n",
    "    beta_copy[row,col]+=0.00001\n",
    "    \n",
    "    difference2 = compute_difference(beta_copy,x)\n",
    "        \n",
    "    return (sse(difference1)-sse(difference2))/delta"
   ]
  },
  {
   "cell_type": "code",
   "execution_count": 128,
   "id": "aee741d1",
   "metadata": {},
   "outputs": [],
   "source": [
    "alpha_hat = (beta).dot(x)\n",
    "difference = alpha_hat-alpha"
   ]
  },
  {
   "cell_type": "code",
   "execution_count": 129,
   "id": "8825f4fb",
   "metadata": {},
   "outputs": [
    {
     "data": {
      "text/plain": [
       "array([[6., 6.],\n",
       "       [6., 6.],\n",
       "       [6., 6.],\n",
       "       [6., 6.]])"
      ]
     },
     "execution_count": 129,
     "metadata": {},
     "output_type": "execute_result"
    }
   ],
   "source": [
    "#cookbook gradient\n",
    "compute_gradient_matrix_cookbook(x,alpha,beta)"
   ]
  },
  {
   "cell_type": "code",
   "execution_count": 130,
   "id": "45c45afe",
   "metadata": {},
   "outputs": [
    {
     "data": {
      "text/plain": [
       "(4,)"
      ]
     },
     "execution_count": 130,
     "metadata": {},
     "output_type": "execute_result"
    }
   ],
   "source": [
    "x.shape"
   ]
  },
  {
   "cell_type": "code",
   "execution_count": 131,
   "id": "d6a3cd1a",
   "metadata": {},
   "outputs": [
    {
     "data": {
      "text/plain": [
       "array([[-6.00001, -6.00001],\n",
       "       [-6.00001, -6.00001],\n",
       "       [-6.00001, -6.00001],\n",
       "       [-6.00001, -6.00001]])"
      ]
     },
     "execution_count": 131,
     "metadata": {},
     "output_type": "execute_result"
    }
   ],
   "source": [
    "#manual gradient verification\n",
    "\n",
    "gradient_matrix_manual = np.zeros(beta.shape)\n",
    "\n",
    "for val in range(len(beta)):\n",
    "    for valtwo in range(len(beta[0])):\n",
    "        partial_gradient = compute_gradient_manual(beta,x,(val,valtwo))\n",
    "        gradient_matrix_manual[val,valtwo]=partial_gradient\n",
    "        \n",
    "gradient_matrix_manual.T"
   ]
  },
  {
   "cell_type": "code",
   "execution_count": 132,
   "id": "0346a63e",
   "metadata": {},
   "outputs": [
    {
     "data": {
      "text/plain": [
       "array([[-6.00001, -6.00001],\n",
       "       [-6.00001, -6.00001],\n",
       "       [-6.00001, -6.00001],\n",
       "       [-6.00001, -6.00001]])"
      ]
     },
     "execution_count": 132,
     "metadata": {},
     "output_type": "execute_result"
    }
   ],
   "source": [
    "gradient_matrix_manual.T"
   ]
  },
  {
   "cell_type": "code",
   "execution_count": null,
   "id": "4855fe58",
   "metadata": {},
   "outputs": [],
   "source": []
  },
  {
   "cell_type": "code",
   "execution_count": null,
   "id": "950d8888",
   "metadata": {},
   "outputs": [],
   "source": []
  },
  {
   "cell_type": "code",
   "execution_count": null,
   "id": "5056f67b",
   "metadata": {},
   "outputs": [],
   "source": []
  },
  {
   "cell_type": "markdown",
   "id": "5dc00c91",
   "metadata": {},
   "source": [
    "# Gradient 5 Rows"
   ]
  },
  {
   "cell_type": "code",
   "execution_count": 133,
   "id": "67d1ff90",
   "metadata": {},
   "outputs": [],
   "source": [
    "beta = np.array([[1.0,1.0,1.0,1.0],[1.0,1.0,1.0,1.0]])\n",
    "x_5_rows = np.array([[1.0,1.0,1.0,1.0],\n",
    "            [1.0,1.0,1.0,1.0],\n",
    "             [1.0,1.0,1.0,1.0],\n",
    "             [1.0,1.0,1.0,1.0],\n",
    "             [1.0,1.0,1.0,1.0]])\n",
    "alpha_5_rows = np.array([[1.0,1.0],\n",
    "                  [1.0,1.0],\n",
    "                  [1.0,1.0],\n",
    "                  [1.0,1.0],\n",
    "                  [1.0,1.0]])"
   ]
  },
  {
   "cell_type": "code",
   "execution_count": 134,
   "id": "7f584a86",
   "metadata": {},
   "outputs": [],
   "source": [
    "def compute_difference(beta,x_row,alpha_row):\n",
    "    alpha_hat = (beta).dot(x_row)\n",
    "    difference = alpha_hat-alpha_row\n",
    "    \n",
    "    return difference"
   ]
  },
  {
   "cell_type": "code",
   "execution_count": 135,
   "id": "21901785",
   "metadata": {},
   "outputs": [],
   "source": [
    "def compute_gradient_manual(beta,x_row,alpha_row,index_values,delta=0.00001):\n",
    "    row,col = index_values\n",
    "    difference1 = compute_difference(beta,x_row,alpha_row)\n",
    "    \n",
    "    beta_copy = beta.copy()\n",
    "    beta_copy[row,col]+=0.00001\n",
    "    \n",
    "    difference2 = compute_difference(beta_copy,x_row,alpha_row)\n",
    "        \n",
    "    return (sse(difference1)-sse(difference2))/delta"
   ]
  },
  {
   "cell_type": "code",
   "execution_count": 136,
   "id": "b7fda8ad",
   "metadata": {},
   "outputs": [],
   "source": [
    "gradient_matrix_global = np.zeros(beta.shape)\n",
    "\n",
    "for row_index in range(len(x_5_rows)):\n",
    "    row = x_5_rows[row_index]\n",
    "    alpha_row = alpha_5_rows[row_index]\n",
    "    gradient_matrix_local = np.zeros(beta.shape)\n",
    "\n",
    "    for val in range(len(beta)):\n",
    "        for valtwo in range(len(beta[0])):\n",
    "            partial_gradient = compute_gradient_manual(beta,x,alpha_row,(val,valtwo))\n",
    "            gradient_matrix_local[val,valtwo]=partial_gradient\n",
    "    gradient_matrix_global+= gradient_matrix_local\n"
   ]
  },
  {
   "cell_type": "code",
   "execution_count": 137,
   "id": "89983619",
   "metadata": {},
   "outputs": [
    {
     "data": {
      "text/plain": [
       "array([[-30.00005, -30.00005, -30.00005, -30.00005],\n",
       "       [-30.00005, -30.00005, -30.00005, -30.00005]])"
      ]
     },
     "execution_count": 137,
     "metadata": {},
     "output_type": "execute_result"
    }
   ],
   "source": [
    "gradient_matrix_global"
   ]
  },
  {
   "cell_type": "code",
   "execution_count": 138,
   "id": "6be43175",
   "metadata": {},
   "outputs": [],
   "source": [
    "def compute_gradient_matrix_cookbook_5_rows(x_row,alpha_row,beta):\n",
    "    return 2*(np.dot(beta,np.outer(x_row,x_row.T)).T - (np.outer(x_row,alpha_row)))"
   ]
  },
  {
   "cell_type": "code",
   "execution_count": 139,
   "id": "2de566ca",
   "metadata": {},
   "outputs": [],
   "source": [
    "gradient_matrix_global = np.zeros(beta.shape)\n",
    "\n",
    "for row_index in range(len(x_5_rows)):\n",
    "    row = x_5_rows[row_index]\n",
    "    alpha_row = alpha_5_rows[row_index]\n",
    "    gradient_local = compute_gradient_matrix_cookbook_5_rows(row,alpha_row,beta).T\n",
    "    gradient_matrix_global+=gradient_local"
   ]
  },
  {
   "cell_type": "code",
   "execution_count": 140,
   "id": "7aadb5c5",
   "metadata": {},
   "outputs": [
    {
     "data": {
      "text/plain": [
       "array([[30., 30., 30., 30.],\n",
       "       [30., 30., 30., 30.]])"
      ]
     },
     "execution_count": 140,
     "metadata": {},
     "output_type": "execute_result"
    }
   ],
   "source": [
    "gradient_matrix_global"
   ]
  },
  {
   "cell_type": "code",
   "execution_count": null,
   "id": "b3dde6e9",
   "metadata": {},
   "outputs": [],
   "source": []
  },
  {
   "cell_type": "markdown",
   "id": "da96528b",
   "metadata": {},
   "source": [
    "# Gradient Descent"
   ]
  },
  {
   "cell_type": "code",
   "execution_count": 121,
   "id": "5c0fcaca",
   "metadata": {},
   "outputs": [],
   "source": [
    "betas_random = np.random.random((beta.shape))"
   ]
  },
  {
   "cell_type": "code",
   "execution_count": null,
   "id": "858fb219",
   "metadata": {},
   "outputs": [],
   "source": []
  }
 ],
 "metadata": {
  "kernelspec": {
   "display_name": "Python 3 (ipykernel)",
   "language": "python",
   "name": "python3"
  },
  "language_info": {
   "codemirror_mode": {
    "name": "ipython",
    "version": 3
   },
   "file_extension": ".py",
   "mimetype": "text/x-python",
   "name": "python",
   "nbconvert_exporter": "python",
   "pygments_lexer": "ipython3",
   "version": "3.9.7"
  }
 },
 "nbformat": 4,
 "nbformat_minor": 5
}
