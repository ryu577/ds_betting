{
 "cells": [
  {
   "cell_type": "code",
   "execution_count": 1,
   "id": "7024f40c",
   "metadata": {},
   "outputs": [
    {
     "name": "stderr",
     "output_type": "stream",
     "text": [
      "C:\\Users\\Owner\\anaconda3\\lib\\site-packages\\scipy\\__init__.py:146: UserWarning: A NumPy version >=1.16.5 and <1.23.0 is required for this version of SciPy (detected version 1.24.2\n",
      "  warnings.warn(f\"A NumPy version >={np_minversion} and <{np_maxversion}\"\n"
     ]
    },
    {
     "name": "stdout",
     "output_type": "stream",
     "text": [
      "The data was generated with the following coefficients:\n",
      "[10.71453179  0.          0.         66.49948238 41.20593377]\n"
     ]
    }
   ],
   "source": [
    "import numpy as np\n",
    "import matplotlib.pyplot as plt\n",
    "\n",
    "from sklearn.datasets import make_regression\n",
    "from scipy.special import expit, logit\n",
    "\n",
    "X, y, coef = make_regression(n_samples=1000,\n",
    "                             n_features=5,\n",
    "                             n_informative=3,\n",
    "                             noise=5.0,\n",
    "                             coef=True,\n",
    "                             random_state=0)\n",
    "\n",
    "# mapping the data to the interval [0,1]\n",
    "y = expit(y/50)   # the factor 50 just scales the data appropriately\n",
    "\n",
    "print(\"The data was generated with the following coefficients:\")\n",
    "print(coef)"
   ]
  },
  {
   "cell_type": "code",
   "execution_count": null,
   "id": "a1ecd359",
   "metadata": {},
   "outputs": [],
   "source": []
  }
 ],
 "metadata": {
  "kernelspec": {
   "display_name": "Python 3 (ipykernel)",
   "language": "python",
   "name": "python3"
  },
  "language_info": {
   "codemirror_mode": {
    "name": "ipython",
    "version": 3
   },
   "file_extension": ".py",
   "mimetype": "text/x-python",
   "name": "python",
   "nbconvert_exporter": "python",
   "pygments_lexer": "ipython3",
   "version": "3.9.7"
  }
 },
 "nbformat": 4,
 "nbformat_minor": 5
}
